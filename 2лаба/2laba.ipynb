{
 "cells": [
  {
   "cell_type": "code",
   "execution_count": 72,
   "metadata": {},
   "outputs": [],
   "source": [
    "#Формирование словаря следующих слов\n",
    "def find_bigrams(my_word, f, k):\n",
    "    my_word2 = my_word + \"'s\"\n",
    "    i_find = False\n",
    "    my_words_dict = {}\n",
    "    for line in f:\n",
    "        list_words = line.split()\n",
    "        for word in list_words:\n",
    "            if i_find:\n",
    "                if word in my_words_dict:\n",
    "                    my_words_dict[word] += 1\n",
    "                else:\n",
    "                    my_words_dict[word] = 1\n",
    "                i_find = False\n",
    "                continue\n",
    "            if word == my_word or word == my_word2:\n",
    "                i_find = True\n",
    "        i_find = False\n",
    "    \n",
    "    for key in list(my_words_dict):\n",
    "        if my_words_dict[key] < k:\n",
    "            del my_words_dict[key]\n",
    "\n",
    "    return my_words_dict"
   ]
  },
  {
   "cell_type": "code",
   "execution_count": 73,
   "metadata": {},
   "outputs": [
    {
     "name": "stdout",
     "output_type": "stream",
     "text": [
      "5\n",
      "{'additive': 37, 'association': 9, 'linear': 11, 'cross': 7, 'item': 6}\n"
     ]
    }
   ],
   "source": [
    "f = open('text_sent_1.txt', 'r')\n",
    "word = 'generalized'\n",
    "my_words_dict = find_bigrams(word, f, 5)\n",
    "print(len(my_words_dict))\n",
    "print(my_words_dict)\n",
    "f.close()"
   ]
  },
  {
   "cell_type": "code",
   "execution_count": 74,
   "metadata": {},
   "outputs": [],
   "source": [
    "import pandas as pd"
   ]
  },
  {
   "cell_type": "markdown",
   "metadata": {},
   "source": [
    "Получили дата фрейм всех биграм слов"
   ]
  },
  {
   "cell_type": "code",
   "execution_count": 75,
   "metadata": {},
   "outputs": [
    {
     "data": {
      "text/html": [
       "<div>\n",
       "<style scoped>\n",
       "    .dataframe tbody tr th:only-of-type {\n",
       "        vertical-align: middle;\n",
       "    }\n",
       "\n",
       "    .dataframe tbody tr th {\n",
       "        vertical-align: top;\n",
       "    }\n",
       "\n",
       "    .dataframe thead th {\n",
       "        text-align: right;\n",
       "    }\n",
       "</style>\n",
       "<table border=\"1\" class=\"dataframe\">\n",
       "  <thead>\n",
       "    <tr style=\"text-align: right;\">\n",
       "      <th></th>\n",
       "      <th>second word</th>\n",
       "      <th>count</th>\n",
       "    </tr>\n",
       "  </thead>\n",
       "  <tbody>\n",
       "    <tr>\n",
       "      <th>0</th>\n",
       "      <td>additive</td>\n",
       "      <td>37</td>\n",
       "    </tr>\n",
       "    <tr>\n",
       "      <th>1</th>\n",
       "      <td>association</td>\n",
       "      <td>9</td>\n",
       "    </tr>\n",
       "    <tr>\n",
       "      <th>2</th>\n",
       "      <td>linear</td>\n",
       "      <td>11</td>\n",
       "    </tr>\n",
       "    <tr>\n",
       "      <th>3</th>\n",
       "      <td>cross</td>\n",
       "      <td>7</td>\n",
       "    </tr>\n",
       "    <tr>\n",
       "      <th>4</th>\n",
       "      <td>item</td>\n",
       "      <td>6</td>\n",
       "    </tr>\n",
       "  </tbody>\n",
       "</table>\n",
       "</div>"
      ],
      "text/plain": [
       "   second word  count\n",
       "0     additive     37\n",
       "1  association      9\n",
       "2       linear     11\n",
       "3        cross      7\n",
       "4         item      6"
      ]
     },
     "execution_count": 75,
     "metadata": {},
     "output_type": "execute_result"
    }
   ],
   "source": [
    "df = pd.DataFrame(list(my_words_dict.items()), columns=['second word', 'count'])\n",
    "df"
   ]
  },
  {
   "cell_type": "code",
   "execution_count": 76,
   "metadata": {},
   "outputs": [
    {
     "data": {
      "text/html": [
       "<div>\n",
       "<style scoped>\n",
       "    .dataframe tbody tr th:only-of-type {\n",
       "        vertical-align: middle;\n",
       "    }\n",
       "\n",
       "    .dataframe tbody tr th {\n",
       "        vertical-align: top;\n",
       "    }\n",
       "\n",
       "    .dataframe thead th {\n",
       "        text-align: right;\n",
       "    }\n",
       "</style>\n",
       "<table border=\"1\" class=\"dataframe\">\n",
       "  <thead>\n",
       "    <tr style=\"text-align: right;\">\n",
       "      <th></th>\n",
       "      <th>second word</th>\n",
       "      <th>count</th>\n",
       "    </tr>\n",
       "  </thead>\n",
       "  <tbody>\n",
       "    <tr>\n",
       "      <th>0</th>\n",
       "      <td>additive</td>\n",
       "      <td>37</td>\n",
       "    </tr>\n",
       "    <tr>\n",
       "      <th>2</th>\n",
       "      <td>linear</td>\n",
       "      <td>11</td>\n",
       "    </tr>\n",
       "    <tr>\n",
       "      <th>1</th>\n",
       "      <td>association</td>\n",
       "      <td>9</td>\n",
       "    </tr>\n",
       "    <tr>\n",
       "      <th>3</th>\n",
       "      <td>cross</td>\n",
       "      <td>7</td>\n",
       "    </tr>\n",
       "    <tr>\n",
       "      <th>4</th>\n",
       "      <td>item</td>\n",
       "      <td>6</td>\n",
       "    </tr>\n",
       "  </tbody>\n",
       "</table>\n",
       "</div>"
      ],
      "text/plain": [
       "   second word  count\n",
       "0     additive     37\n",
       "2       linear     11\n",
       "1  association      9\n",
       "3        cross      7\n",
       "4         item      6"
      ]
     },
     "execution_count": 76,
     "metadata": {},
     "output_type": "execute_result"
    }
   ],
   "source": [
    "df.sort_values(by=['count'], ascending=False)"
   ]
  },
  {
   "cell_type": "code",
   "execution_count": 77,
   "metadata": {},
   "outputs": [
    {
     "data": {
      "text/html": [
       "<div>\n",
       "<style scoped>\n",
       "    .dataframe tbody tr th:only-of-type {\n",
       "        vertical-align: middle;\n",
       "    }\n",
       "\n",
       "    .dataframe tbody tr th {\n",
       "        vertical-align: top;\n",
       "    }\n",
       "\n",
       "    .dataframe thead th {\n",
       "        text-align: right;\n",
       "    }\n",
       "</style>\n",
       "<table border=\"1\" class=\"dataframe\">\n",
       "  <thead>\n",
       "    <tr style=\"text-align: right;\">\n",
       "      <th></th>\n",
       "      <th>second word</th>\n",
       "      <th>count</th>\n",
       "    </tr>\n",
       "  </thead>\n",
       "  <tbody>\n",
       "    <tr>\n",
       "      <th>0</th>\n",
       "      <td>additive</td>\n",
       "      <td>37</td>\n",
       "    </tr>\n",
       "    <tr>\n",
       "      <th>1</th>\n",
       "      <td>association</td>\n",
       "      <td>9</td>\n",
       "    </tr>\n",
       "    <tr>\n",
       "      <th>2</th>\n",
       "      <td>linear</td>\n",
       "      <td>11</td>\n",
       "    </tr>\n",
       "    <tr>\n",
       "      <th>3</th>\n",
       "      <td>cross</td>\n",
       "      <td>7</td>\n",
       "    </tr>\n",
       "    <tr>\n",
       "      <th>4</th>\n",
       "      <td>item</td>\n",
       "      <td>6</td>\n",
       "    </tr>\n",
       "  </tbody>\n",
       "</table>\n",
       "</div>"
      ],
      "text/plain": [
       "   second word  count\n",
       "0     additive     37\n",
       "1  association      9\n",
       "2       linear     11\n",
       "3        cross      7\n",
       "4         item      6"
      ]
     },
     "execution_count": 77,
     "metadata": {},
     "output_type": "execute_result"
    }
   ],
   "source": [
    "df"
   ]
  },
  {
   "cell_type": "markdown",
   "metadata": {},
   "source": [
    "Теперь займёмся созданием для каждого слова таблицы сопряжённости. Для этого посчитаем сначала общее количество биграм в тексте\n"
   ]
  },
  {
   "cell_type": "markdown",
   "metadata": {},
   "source": []
  },
  {
   "cell_type": "code",
   "execution_count": 78,
   "metadata": {},
   "outputs": [
    {
     "name": "stdout",
     "output_type": "stream",
     "text": [
      "and d'aspremont\n",
      " 10732\n"
     ]
    },
    {
     "data": {
      "text/plain": [
       "(176569, 1)"
      ]
     },
     "execution_count": 78,
     "metadata": {},
     "output_type": "execute_result"
    }
   ],
   "source": [
    "n_bigrams = 0\n",
    "k = 0\n",
    "i = 0\n",
    "f = open('text_sent_1.txt')\n",
    "for line in f:\n",
    "    i += 1\n",
    "    if(len(line.split()) == 2 and line.find(\"'\")!=-1):\n",
    "        print(line, i)\n",
    "        k += 1\n",
    "    n_bigrams += len(line.split(' ')) - 1\n",
    "\n",
    "f.close()\n",
    "n_bigrams, k\n"
   ]
  },
  {
   "cell_type": "markdown",
   "metadata": {},
   "source": [
    "Теперь для каждого слова из датафрейма посчитаем сколько раз оно встречается в тексте не на первой позиции.\n"
   ]
  },
  {
   "cell_type": "code",
   "execution_count": 79,
   "metadata": {},
   "outputs": [
    {
     "data": {
      "text/plain": [
       "[189, 69, 774, 233, 52]"
      ]
     },
     "execution_count": 79,
     "metadata": {},
     "output_type": "execute_result"
    }
   ],
   "source": [
    "f = open('text_sent_1.txt')\n",
    "n_words = [0] * len(df)\n",
    "i = 0\n",
    "for word in df['second word']:\n",
    "    f.seek(0) #Возвращаемся в начало файла\n",
    "    for line in f: # Пробегаемся по всему файлу\n",
    "        list_line = line.split()\n",
    "        n_words[i] += line.count(word)\n",
    "        if len(line) > 1 and list_line[0] == word: \n",
    "            n_words[i] -= 1\n",
    "    i += 1\n",
    "n_words"
   ]
  },
  {
   "cell_type": "markdown",
   "metadata": {},
   "source": [
    "Добавим этот столбец к нашему дата фрейму\n"
   ]
  },
  {
   "cell_type": "code",
   "execution_count": 80,
   "metadata": {},
   "outputs": [],
   "source": [
    "df['all second word'] = n_words"
   ]
  },
  {
   "cell_type": "markdown",
   "metadata": {},
   "source": [
    "Теперь посчитаем количество биграм без первого слова"
   ]
  },
  {
   "cell_type": "code",
   "execution_count": 81,
   "metadata": {},
   "outputs": [],
   "source": [
    "df['without first word'] = df['all second word'] - df['count']"
   ]
  },
  {
   "cell_type": "markdown",
   "metadata": {},
   "source": [
    "Посчитаем количество в тексте 1ого слова"
   ]
  },
  {
   "cell_type": "code",
   "execution_count": 82,
   "metadata": {},
   "outputs": [],
   "source": [
    "first_count = df['count'].sum()"
   ]
  },
  {
   "cell_type": "markdown",
   "metadata": {},
   "source": [
    "Посчитаем количество без 2го слова для каждого 2ого слова, но с первым нашем словом\n",
    "\n"
   ]
  },
  {
   "cell_type": "code",
   "execution_count": 83,
   "metadata": {},
   "outputs": [],
   "source": [
    "df['without second word'] = first_count - df['count']"
   ]
  },
  {
   "cell_type": "markdown",
   "metadata": {},
   "source": [
    "Посчитаем количество биграм без второго и первого слов"
   ]
  },
  {
   "cell_type": "code",
   "execution_count": 84,
   "metadata": {},
   "outputs": [],
   "source": [
    "df['without first and second'] = n_bigrams - df['count'] - df['without first word'] - df['without second word']"
   ]
  },
  {
   "cell_type": "code",
   "execution_count": 85,
   "metadata": {},
   "outputs": [
    {
     "data": {
      "text/html": [
       "<div>\n",
       "<style scoped>\n",
       "    .dataframe tbody tr th:only-of-type {\n",
       "        vertical-align: middle;\n",
       "    }\n",
       "\n",
       "    .dataframe tbody tr th {\n",
       "        vertical-align: top;\n",
       "    }\n",
       "\n",
       "    .dataframe thead th {\n",
       "        text-align: right;\n",
       "    }\n",
       "</style>\n",
       "<table border=\"1\" class=\"dataframe\">\n",
       "  <thead>\n",
       "    <tr style=\"text-align: right;\">\n",
       "      <th></th>\n",
       "      <th>second word</th>\n",
       "      <th>count</th>\n",
       "      <th>all second word</th>\n",
       "      <th>without first word</th>\n",
       "      <th>without second word</th>\n",
       "      <th>without first and second</th>\n",
       "    </tr>\n",
       "  </thead>\n",
       "  <tbody>\n",
       "    <tr>\n",
       "      <th>0</th>\n",
       "      <td>additive</td>\n",
       "      <td>37</td>\n",
       "      <td>189</td>\n",
       "      <td>152</td>\n",
       "      <td>33</td>\n",
       "      <td>176347</td>\n",
       "    </tr>\n",
       "    <tr>\n",
       "      <th>1</th>\n",
       "      <td>association</td>\n",
       "      <td>9</td>\n",
       "      <td>69</td>\n",
       "      <td>60</td>\n",
       "      <td>61</td>\n",
       "      <td>176439</td>\n",
       "    </tr>\n",
       "    <tr>\n",
       "      <th>2</th>\n",
       "      <td>linear</td>\n",
       "      <td>11</td>\n",
       "      <td>774</td>\n",
       "      <td>763</td>\n",
       "      <td>59</td>\n",
       "      <td>175736</td>\n",
       "    </tr>\n",
       "    <tr>\n",
       "      <th>3</th>\n",
       "      <td>cross</td>\n",
       "      <td>7</td>\n",
       "      <td>233</td>\n",
       "      <td>226</td>\n",
       "      <td>63</td>\n",
       "      <td>176273</td>\n",
       "    </tr>\n",
       "    <tr>\n",
       "      <th>4</th>\n",
       "      <td>item</td>\n",
       "      <td>6</td>\n",
       "      <td>52</td>\n",
       "      <td>46</td>\n",
       "      <td>64</td>\n",
       "      <td>176453</td>\n",
       "    </tr>\n",
       "  </tbody>\n",
       "</table>\n",
       "</div>"
      ],
      "text/plain": [
       "   second word  count  all second word  without first word  \\\n",
       "0     additive     37              189                 152   \n",
       "1  association      9               69                  60   \n",
       "2       linear     11              774                 763   \n",
       "3        cross      7              233                 226   \n",
       "4         item      6               52                  46   \n",
       "\n",
       "   without second word  without first and second  \n",
       "0                   33                    176347  \n",
       "1                   61                    176439  \n",
       "2                   59                    175736  \n",
       "3                   63                    176273  \n",
       "4                   64                    176453  "
      ]
     },
     "execution_count": 85,
     "metadata": {},
     "output_type": "execute_result"
    }
   ],
   "source": [
    "df"
   ]
  },
  {
   "cell_type": "code",
   "execution_count": 86,
   "metadata": {},
   "outputs": [
    {
     "data": {
      "text/plain": [
       "70"
      ]
     },
     "execution_count": 86,
     "metadata": {},
     "output_type": "execute_result"
    }
   ],
   "source": [
    "first_count"
   ]
  },
  {
   "cell_type": "markdown",
   "metadata": {},
   "source": [
    "А теперь посчитаем коэффициент стьюдента\n"
   ]
  },
  {
   "cell_type": "code",
   "execution_count": 87,
   "metadata": {},
   "outputs": [],
   "source": [
    "import numpy as np"
   ]
  },
  {
   "cell_type": "code",
   "execution_count": 88,
   "metadata": {},
   "outputs": [],
   "source": [
    "avr_x = df['count'] / df['without first and second']\n",
    "nu = first_count * df['all second word'] / (n_bigrams**2)\n",
    "df['t'] = (avr_x - nu) / np.sqrt(avr_x * (1 - avr_x) / n_bigrams)"
   ]
  },
  {
   "cell_type": "code",
   "execution_count": 89,
   "metadata": {},
   "outputs": [
    {
     "data": {
      "text/html": [
       "<div>\n",
       "<style scoped>\n",
       "    .dataframe tbody tr th:only-of-type {\n",
       "        vertical-align: middle;\n",
       "    }\n",
       "\n",
       "    .dataframe tbody tr th {\n",
       "        vertical-align: top;\n",
       "    }\n",
       "\n",
       "    .dataframe thead th {\n",
       "        text-align: right;\n",
       "    }\n",
       "</style>\n",
       "<table border=\"1\" class=\"dataframe\">\n",
       "  <thead>\n",
       "    <tr style=\"text-align: right;\">\n",
       "      <th></th>\n",
       "      <th>second word</th>\n",
       "      <th>t</th>\n",
       "    </tr>\n",
       "  </thead>\n",
       "  <tbody>\n",
       "    <tr>\n",
       "      <th>0</th>\n",
       "      <td>additive</td>\n",
       "      <td>6.074917</td>\n",
       "    </tr>\n",
       "    <tr>\n",
       "      <th>2</th>\n",
       "      <td>linear</td>\n",
       "      <td>3.232277</td>\n",
       "    </tr>\n",
       "    <tr>\n",
       "      <th>1</th>\n",
       "      <td>association</td>\n",
       "      <td>2.992066</td>\n",
       "    </tr>\n",
       "    <tr>\n",
       "      <th>3</th>\n",
       "      <td>cross</td>\n",
       "      <td>2.613140</td>\n",
       "    </tr>\n",
       "    <tr>\n",
       "      <th>4</th>\n",
       "      <td>item</td>\n",
       "      <td>2.441923</td>\n",
       "    </tr>\n",
       "  </tbody>\n",
       "</table>\n",
       "</div>"
      ],
      "text/plain": [
       "   second word         t\n",
       "0     additive  6.074917\n",
       "2       linear  3.232277\n",
       "1  association  2.992066\n",
       "3        cross  2.613140\n",
       "4         item  2.441923"
      ]
     },
     "execution_count": 89,
     "metadata": {},
     "output_type": "execute_result"
    }
   ],
   "source": [
    "df[['second word', 't']].sort_values(by=['t'], ascending=False)"
   ]
  },
  {
   "cell_type": "markdown",
   "metadata": {},
   "source": [
    "Теперь упорядочим значения по коэфициенту t"
   ]
  },
  {
   "cell_type": "code",
   "execution_count": 90,
   "metadata": {},
   "outputs": [
    {
     "data": {
      "text/html": [
       "<div>\n",
       "<style scoped>\n",
       "    .dataframe tbody tr th:only-of-type {\n",
       "        vertical-align: middle;\n",
       "    }\n",
       "\n",
       "    .dataframe tbody tr th {\n",
       "        vertical-align: top;\n",
       "    }\n",
       "\n",
       "    .dataframe thead th {\n",
       "        text-align: right;\n",
       "    }\n",
       "</style>\n",
       "<table border=\"1\" class=\"dataframe\">\n",
       "  <thead>\n",
       "    <tr style=\"text-align: right;\">\n",
       "      <th></th>\n",
       "      <th>second word</th>\n",
       "      <th>count</th>\n",
       "      <th>all second word</th>\n",
       "      <th>without first word</th>\n",
       "      <th>without second word</th>\n",
       "      <th>without first and second</th>\n",
       "      <th>t</th>\n",
       "    </tr>\n",
       "  </thead>\n",
       "  <tbody>\n",
       "    <tr>\n",
       "      <th>0</th>\n",
       "      <td>additive</td>\n",
       "      <td>37</td>\n",
       "      <td>189</td>\n",
       "      <td>152</td>\n",
       "      <td>33</td>\n",
       "      <td>176347</td>\n",
       "      <td>6.074917</td>\n",
       "    </tr>\n",
       "    <tr>\n",
       "      <th>2</th>\n",
       "      <td>linear</td>\n",
       "      <td>11</td>\n",
       "      <td>774</td>\n",
       "      <td>763</td>\n",
       "      <td>59</td>\n",
       "      <td>175736</td>\n",
       "      <td>3.232277</td>\n",
       "    </tr>\n",
       "    <tr>\n",
       "      <th>1</th>\n",
       "      <td>association</td>\n",
       "      <td>9</td>\n",
       "      <td>69</td>\n",
       "      <td>60</td>\n",
       "      <td>61</td>\n",
       "      <td>176439</td>\n",
       "      <td>2.992066</td>\n",
       "    </tr>\n",
       "    <tr>\n",
       "      <th>3</th>\n",
       "      <td>cross</td>\n",
       "      <td>7</td>\n",
       "      <td>233</td>\n",
       "      <td>226</td>\n",
       "      <td>63</td>\n",
       "      <td>176273</td>\n",
       "      <td>2.613140</td>\n",
       "    </tr>\n",
       "    <tr>\n",
       "      <th>4</th>\n",
       "      <td>item</td>\n",
       "      <td>6</td>\n",
       "      <td>52</td>\n",
       "      <td>46</td>\n",
       "      <td>64</td>\n",
       "      <td>176453</td>\n",
       "      <td>2.441923</td>\n",
       "    </tr>\n",
       "  </tbody>\n",
       "</table>\n",
       "</div>"
      ],
      "text/plain": [
       "   second word  count  all second word  without first word  \\\n",
       "0     additive     37              189                 152   \n",
       "2       linear     11              774                 763   \n",
       "1  association      9               69                  60   \n",
       "3        cross      7              233                 226   \n",
       "4         item      6               52                  46   \n",
       "\n",
       "   without second word  without first and second         t  \n",
       "0                   33                    176347  6.074917  \n",
       "2                   59                    175736  3.232277  \n",
       "1                   61                    176439  2.992066  \n",
       "3                   63                    176273  2.613140  \n",
       "4                   64                    176453  2.441923  "
      ]
     },
     "execution_count": 90,
     "metadata": {},
     "output_type": "execute_result"
    }
   ],
   "source": [
    "df.sort_values(by=['t'], ascending=False)"
   ]
  },
  {
   "cell_type": "markdown",
   "metadata": {},
   "source": [
    "Теперь посчитаем статистику хи квадрат"
   ]
  },
  {
   "cell_type": "code",
   "execution_count": 91,
   "metadata": {},
   "outputs": [
    {
     "data": {
      "text/html": [
       "<div>\n",
       "<style scoped>\n",
       "    .dataframe tbody tr th:only-of-type {\n",
       "        vertical-align: middle;\n",
       "    }\n",
       "\n",
       "    .dataframe tbody tr th {\n",
       "        vertical-align: top;\n",
       "    }\n",
       "\n",
       "    .dataframe thead th {\n",
       "        text-align: right;\n",
       "    }\n",
       "</style>\n",
       "<table border=\"1\" class=\"dataframe\">\n",
       "  <thead>\n",
       "    <tr style=\"text-align: right;\">\n",
       "      <th></th>\n",
       "      <th>second word</th>\n",
       "      <th>chi2</th>\n",
       "    </tr>\n",
       "  </thead>\n",
       "  <tbody>\n",
       "    <tr>\n",
       "      <th>0</th>\n",
       "      <td>additive</td>\n",
       "      <td>18235.914529</td>\n",
       "    </tr>\n",
       "    <tr>\n",
       "      <th>1</th>\n",
       "      <td>association</td>\n",
       "      <td>2945.423974</td>\n",
       "    </tr>\n",
       "    <tr>\n",
       "      <th>4</th>\n",
       "      <td>item</td>\n",
       "      <td>1735.329395</td>\n",
       "    </tr>\n",
       "    <tr>\n",
       "      <th>3</th>\n",
       "      <td>cross</td>\n",
       "      <td>517.923177</td>\n",
       "    </tr>\n",
       "    <tr>\n",
       "      <th>2</th>\n",
       "      <td>linear</td>\n",
       "      <td>375.926329</td>\n",
       "    </tr>\n",
       "  </tbody>\n",
       "</table>\n",
       "</div>"
      ],
      "text/plain": [
       "   second word          chi2\n",
       "0     additive  18235.914529\n",
       "1  association   2945.423974\n",
       "4         item   1735.329395\n",
       "3        cross    517.923177\n",
       "2       linear    375.926329"
      ]
     },
     "execution_count": 91,
     "metadata": {},
     "output_type": "execute_result"
    }
   ],
   "source": [
    "t1 = n_bigrams * (df['count'] * df['without first and second'] - df['without second word'] * df['without first word'])**2\n",
    "t2 = ((df['count'] + df['without second word']) * (df['count'] + df['without first word']) \n",
    "      * (df['without second word'] + df['without first and second']) * (df['without second word'] + df['without first and second']))\n",
    "df['chi2'] = t1 / t2\n",
    "df[['second word', 'chi2']].sort_values(by='chi2',ascending=False)"
   ]
  },
  {
   "cell_type": "markdown",
   "metadata": {},
   "source": [
    "Теперь посчитаем коэффициент фишера"
   ]
  },
  {
   "cell_type": "code",
   "execution_count": 92,
   "metadata": {},
   "outputs": [],
   "source": [
    "from math import comb"
   ]
  },
  {
   "cell_type": "markdown",
   "metadata": {},
   "source": [
    "Для начала забьём формулу распределения абсолютной частоты"
   ]
  },
  {
   "cell_type": "code",
   "execution_count": 93,
   "metadata": {},
   "outputs": [],
   "source": [
    "def abs_quens(z, c1, c2, N):\n",
    "    print(c2, N)\n",
    "    print(comb(c2, N))\n",
    "    return comb(c1, z) * comb(c2 - z, N) / comb(c2, N)"
   ]
  },
  {
   "cell_type": "markdown",
   "metadata": {},
   "source": [
    "Теперь посчитаем коэффициент фишера"
   ]
  },
  {
   "cell_type": "code",
   "execution_count": 94,
   "metadata": {},
   "outputs": [],
   "source": [
    "def fisher(c1, c2, c12, N):\n",
    "    s = 0\n",
    "    for i in range(c12 + 1):\n",
    "        s += abs_quens(i, c1, c2, N)\n",
    "    return 1 - s"
   ]
  },
  {
   "cell_type": "markdown",
   "metadata": {},
   "source": [
    "\n",
    "    Теперь когда все вспомогательные функции готовы, приступим к подсчёту коэффициента фишера для каждого словосочетания"
   ]
  },
  {
   "cell_type": "code",
   "execution_count": 95,
   "metadata": {},
   "outputs": [],
   "source": [
    "# importing packages \n",
    "import scipy.stats as stats "
   ]
  },
  {
   "cell_type": "code",
   "execution_count": 96,
   "metadata": {},
   "outputs": [
    {
     "data": {
      "text/html": [
       "<div>\n",
       "<style scoped>\n",
       "    .dataframe tbody tr th:only-of-type {\n",
       "        vertical-align: middle;\n",
       "    }\n",
       "\n",
       "    .dataframe tbody tr th {\n",
       "        vertical-align: top;\n",
       "    }\n",
       "\n",
       "    .dataframe thead th {\n",
       "        text-align: right;\n",
       "    }\n",
       "</style>\n",
       "<table border=\"1\" class=\"dataframe\">\n",
       "  <thead>\n",
       "    <tr style=\"text-align: right;\">\n",
       "      <th></th>\n",
       "      <th>second word</th>\n",
       "      <th>fisher</th>\n",
       "    </tr>\n",
       "  </thead>\n",
       "  <tbody>\n",
       "    <tr>\n",
       "      <th>3</th>\n",
       "      <td>cross</td>\n",
       "      <td>7.107536e-12</td>\n",
       "    </tr>\n",
       "    <tr>\n",
       "      <th>4</th>\n",
       "      <td>item</td>\n",
       "      <td>6.252833e-14</td>\n",
       "    </tr>\n",
       "    <tr>\n",
       "      <th>2</th>\n",
       "      <td>linear</td>\n",
       "      <td>1.831525e-14</td>\n",
       "    </tr>\n",
       "    <tr>\n",
       "      <th>1</th>\n",
       "      <td>association</td>\n",
       "      <td>7.870888e-21</td>\n",
       "    </tr>\n",
       "    <tr>\n",
       "      <th>0</th>\n",
       "      <td>additive</td>\n",
       "      <td>2.780909e-92</td>\n",
       "    </tr>\n",
       "  </tbody>\n",
       "</table>\n",
       "</div>"
      ],
      "text/plain": [
       "   second word        fisher\n",
       "3        cross  7.107536e-12\n",
       "4         item  6.252833e-14\n",
       "2       linear  1.831525e-14\n",
       "1  association  7.870888e-21\n",
       "0     additive  2.780909e-92"
      ]
     },
     "execution_count": 96,
     "metadata": {},
     "output_type": "execute_result"
    }
   ],
   "source": [
    "\n",
    "F = []\n",
    "df1 = df.reset_index()\n",
    "for index, line in df1.iterrows():\n",
    "    data = [[line['count'], line['without second word']], [line['without first word'], line['without first and second']]]\n",
    "    odd_ratio, p_value = stats.fisher_exact(data) \n",
    "    F.append(p_value)\n",
    "df['fisher'] = F\n",
    "df[['second word', 'fisher']].sort_values(by=['fisher'], ascending=False)\n"
   ]
  },
  {
   "cell_type": "code",
   "execution_count": 97,
   "metadata": {},
   "outputs": [
    {
     "data": {
      "text/html": [
       "<div>\n",
       "<style scoped>\n",
       "    .dataframe tbody tr th:only-of-type {\n",
       "        vertical-align: middle;\n",
       "    }\n",
       "\n",
       "    .dataframe tbody tr th {\n",
       "        vertical-align: top;\n",
       "    }\n",
       "\n",
       "    .dataframe thead th {\n",
       "        text-align: right;\n",
       "    }\n",
       "</style>\n",
       "<table border=\"1\" class=\"dataframe\">\n",
       "  <thead>\n",
       "    <tr style=\"text-align: right;\">\n",
       "      <th></th>\n",
       "      <th>second word</th>\n",
       "      <th>count</th>\n",
       "      <th>all second word</th>\n",
       "      <th>without first word</th>\n",
       "      <th>without second word</th>\n",
       "      <th>without first and second</th>\n",
       "      <th>t</th>\n",
       "      <th>chi2</th>\n",
       "      <th>fisher</th>\n",
       "      <th>t&gt;tкр</th>\n",
       "      <th>ch2&gt;ch2кр</th>\n",
       "      <th>F&gt;0.005</th>\n",
       "    </tr>\n",
       "  </thead>\n",
       "  <tbody>\n",
       "    <tr>\n",
       "      <th>0</th>\n",
       "      <td>additive</td>\n",
       "      <td>37</td>\n",
       "      <td>189</td>\n",
       "      <td>152</td>\n",
       "      <td>33</td>\n",
       "      <td>176347</td>\n",
       "      <td>6.074917</td>\n",
       "      <td>18235.914529</td>\n",
       "      <td>2.780909e-92</td>\n",
       "      <td>True</td>\n",
       "      <td>True</td>\n",
       "      <td>False</td>\n",
       "    </tr>\n",
       "    <tr>\n",
       "      <th>1</th>\n",
       "      <td>association</td>\n",
       "      <td>9</td>\n",
       "      <td>69</td>\n",
       "      <td>60</td>\n",
       "      <td>61</td>\n",
       "      <td>176439</td>\n",
       "      <td>2.992066</td>\n",
       "      <td>2945.423974</td>\n",
       "      <td>7.870888e-21</td>\n",
       "      <td>True</td>\n",
       "      <td>True</td>\n",
       "      <td>False</td>\n",
       "    </tr>\n",
       "    <tr>\n",
       "      <th>2</th>\n",
       "      <td>linear</td>\n",
       "      <td>11</td>\n",
       "      <td>774</td>\n",
       "      <td>763</td>\n",
       "      <td>59</td>\n",
       "      <td>175736</td>\n",
       "      <td>3.232277</td>\n",
       "      <td>375.926329</td>\n",
       "      <td>1.831525e-14</td>\n",
       "      <td>True</td>\n",
       "      <td>True</td>\n",
       "      <td>False</td>\n",
       "    </tr>\n",
       "    <tr>\n",
       "      <th>3</th>\n",
       "      <td>cross</td>\n",
       "      <td>7</td>\n",
       "      <td>233</td>\n",
       "      <td>226</td>\n",
       "      <td>63</td>\n",
       "      <td>176273</td>\n",
       "      <td>2.613140</td>\n",
       "      <td>517.923177</td>\n",
       "      <td>7.107536e-12</td>\n",
       "      <td>True</td>\n",
       "      <td>True</td>\n",
       "      <td>False</td>\n",
       "    </tr>\n",
       "    <tr>\n",
       "      <th>4</th>\n",
       "      <td>item</td>\n",
       "      <td>6</td>\n",
       "      <td>52</td>\n",
       "      <td>46</td>\n",
       "      <td>64</td>\n",
       "      <td>176453</td>\n",
       "      <td>2.441923</td>\n",
       "      <td>1735.329395</td>\n",
       "      <td>6.252833e-14</td>\n",
       "      <td>True</td>\n",
       "      <td>True</td>\n",
       "      <td>False</td>\n",
       "    </tr>\n",
       "  </tbody>\n",
       "</table>\n",
       "</div>"
      ],
      "text/plain": [
       "   second word  count  all second word  without first word  \\\n",
       "0     additive     37              189                 152   \n",
       "1  association      9               69                  60   \n",
       "2       linear     11              774                 763   \n",
       "3        cross      7              233                 226   \n",
       "4         item      6               52                  46   \n",
       "\n",
       "   without second word  without first and second         t          chi2  \\\n",
       "0                   33                    176347  6.074917  18235.914529   \n",
       "1                   61                    176439  2.992066   2945.423974   \n",
       "2                   59                    175736  3.232277    375.926329   \n",
       "3                   63                    176273  2.613140    517.923177   \n",
       "4                   64                    176453  2.441923   1735.329395   \n",
       "\n",
       "         fisher  t>tкр  ch2>ch2кр  F>0.005  \n",
       "0  2.780909e-92   True       True    False  \n",
       "1  7.870888e-21   True       True    False  \n",
       "2  1.831525e-14   True       True    False  \n",
       "3  7.107536e-12   True       True    False  \n",
       "4  6.252833e-14   True       True    False  "
      ]
     },
     "execution_count": 97,
     "metadata": {},
     "output_type": "execute_result"
    }
   ],
   "source": [
    "#Уровень значимости\n",
    "alpha = 1 - 0.01\n",
    "t = stats.t.ppf(alpha, df=n_bigrams-1)\n",
    "chi2KR = stats.chi2.ppf(alpha, df=1)\n",
    "\n",
    "df['t>tкр'] = df['t'] > t\n",
    "df['ch2>ch2кр'] = df['chi2'] > chi2KR\n",
    "df['F>0.005'] = df['fisher'] > 0.005\n",
    "df"
   ]
  },
  {
   "cell_type": "markdown",
   "metadata": {},
   "source": [
    "Значит гипотезу о связи слова generalized отвергаем со всеми словами из полученной выборки, кроме слова item.\n"
   ]
  },
  {
   "attachments": {
    "image.png": {
     "image/png": "[encoded data removed]"
    }
   },
   "cell_type": "markdown",
   "metadata": {},
   "source": [
    "А вообще, в документации написанно, что распределение считается по такой формулке: ![image.png](attachment:image.png)"
   ]
  },
  {
   "cell_type": "code",
   "execution_count": 98,
   "metadata": {},
   "outputs": [
    {
     "data": {
      "text/plain": [
       "(2.326368993986917, 6.6348966010212145, 176569)"
      ]
     },
     "execution_count": 98,
     "metadata": {},
     "output_type": "execute_result"
    }
   ],
   "source": [
    "t,chi2KR, n_bigrams"
   ]
  },
  {
   "cell_type": "code",
   "execution_count": 99,
   "metadata": {},
   "outputs": [
    {
     "data": {
      "text/html": [
       "<div>\n",
       "<style scoped>\n",
       "    .dataframe tbody tr th:only-of-type {\n",
       "        vertical-align: middle;\n",
       "    }\n",
       "\n",
       "    .dataframe tbody tr th {\n",
       "        vertical-align: top;\n",
       "    }\n",
       "\n",
       "    .dataframe thead th {\n",
       "        text-align: right;\n",
       "    }\n",
       "</style>\n",
       "<table border=\"1\" class=\"dataframe\">\n",
       "  <thead>\n",
       "    <tr style=\"text-align: right;\">\n",
       "      <th></th>\n",
       "      <th>second word</th>\n",
       "      <th>t&gt;tкр</th>\n",
       "      <th>ch2&gt;ch2кр</th>\n",
       "      <th>F&gt;0.005</th>\n",
       "    </tr>\n",
       "  </thead>\n",
       "  <tbody>\n",
       "    <tr>\n",
       "      <th>0</th>\n",
       "      <td>additive</td>\n",
       "      <td>True</td>\n",
       "      <td>True</td>\n",
       "      <td>False</td>\n",
       "    </tr>\n",
       "    <tr>\n",
       "      <th>1</th>\n",
       "      <td>association</td>\n",
       "      <td>True</td>\n",
       "      <td>True</td>\n",
       "      <td>False</td>\n",
       "    </tr>\n",
       "    <tr>\n",
       "      <th>2</th>\n",
       "      <td>linear</td>\n",
       "      <td>True</td>\n",
       "      <td>True</td>\n",
       "      <td>False</td>\n",
       "    </tr>\n",
       "    <tr>\n",
       "      <th>3</th>\n",
       "      <td>cross</td>\n",
       "      <td>True</td>\n",
       "      <td>True</td>\n",
       "      <td>False</td>\n",
       "    </tr>\n",
       "    <tr>\n",
       "      <th>4</th>\n",
       "      <td>item</td>\n",
       "      <td>True</td>\n",
       "      <td>True</td>\n",
       "      <td>False</td>\n",
       "    </tr>\n",
       "  </tbody>\n",
       "</table>\n",
       "</div>"
      ],
      "text/plain": [
       "   second word  t>tкр  ch2>ch2кр  F>0.005\n",
       "0     additive   True       True    False\n",
       "1  association   True       True    False\n",
       "2       linear   True       True    False\n",
       "3        cross   True       True    False\n",
       "4         item   True       True    False"
      ]
     },
     "execution_count": 99,
     "metadata": {},
     "output_type": "execute_result"
    }
   ],
   "source": [
    "df[['second word', 't>tкр', 'ch2>ch2кр','F>0.005']]"
   ]
  },
  {
   "cell_type": "code",
   "execution_count": null,
   "metadata": {},
   "outputs": [],
   "source": []
  }
 ],
 "metadata": {
  "kernelspec": {
   "display_name": "Python 3",
   "language": "python",
   "name": "python3"
  },
  "language_info": {
   "codemirror_mode": {
    "name": "ipython",
    "version": 3
   },
   "file_extension": ".py",
   "mimetype": "text/x-python",
   "name": "python",
   "nbconvert_exporter": "python",
   "pygments_lexer": "ipython3",
   "version": "3.11.7"
  }
 },
 "nbformat": 4,
 "nbformat_minor": 2
}
